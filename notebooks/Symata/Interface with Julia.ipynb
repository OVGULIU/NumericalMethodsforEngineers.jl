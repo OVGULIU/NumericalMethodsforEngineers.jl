{
 "cells": [
  {
   "cell_type": "code",
   "execution_count": 69,
   "metadata": {
    "collapsed": false
   },
   "outputs": [
    {
     "data": {
      "text/html": [
       "true"
      ],
      "text/plain": [
       "true"
      ]
     },
     "execution_count": 69,
     "metadata": {},
     "output_type": "execute_result"
    }
   ],
   "source": [
    "Julia()"
   ]
  },
  {
   "cell_type": "code",
   "execution_count": 70,
   "metadata": {
    "collapsed": false
   },
   "outputs": [
    {
     "name": "stderr",
     "output_type": "stream",
     "text": [
      "INFO: Updating METADATA...\n",
      "INFO: Updating cache of DataFrames...\n",
      "INFO: Updating cache of DataFrames...\n",
      "INFO: Updating Geomechanics master...\n",
      "INFO: Updating Interact ipywidgets-4...\n",
      "INFO: Updating Stan master...\n",
      "INFO: Updating ClobberingReload master...\n",
      "INFO: Updating EDxMIT15053 master...\n",
      "INFO: Updating Sundials master...\n",
      "INFO: Updating Atom master...\n",
      "INFO: Updating RadauBVP master...\n",
      "INFO: Updating BHAAnalysis master...\n",
      "INFO: Updating EDxMIT201 master...\n",
      "INFO: Updating Tokenize master...\n",
      "INFO: Updating Graphs master...\n",
      "INFO: Updating Symata master...\n",
      "INFO: Updating Espresso master...\n",
      "INFO: Updating EDxMath226 master...\n",
      "INFO: Updating Media master...\n",
      "INFO: Updating Mamba master...\n",
      "INFO: Updating CSoM master...\n",
      "INFO: Updating TP master...\n",
      "INFO: Updating OhMyREPL master...\n",
      "WARNING: Package NMfE: skipping update (dirty)...\n",
      "INFO: Updating ClassicalLaminateTheory master...\n",
      "INFO: Updating Plots master...\n",
      "INFO: Updating Gadfly master...\n",
      "INFO: Updating Unitful master...\n",
      "INFO: Updating MathLink master...\n",
      "INFO: Updating TikzGraphs master...\n",
      "INFO: Updating CodeTools master...\n",
      "INFO: Updating BHACases master...\n",
      "INFO: Updating BHAPlotRecipes master...\n",
      "INFO: Updating Klara master...\n",
      "INFO: Updating Requires master...\n",
      "INFO: Computing changes...\n",
      "INFO: No packages to install, update or remove\n"
     ]
    }
   ],
   "source": [
    "Pkg.update()"
   ]
  },
  {
   "cell_type": "code",
   "execution_count": 71,
   "metadata": {
    "collapsed": false
   },
   "outputs": [],
   "source": [
    "using Symata"
   ]
  },
  {
   "cell_type": "code",
   "execution_count": 73,
   "metadata": {
    "collapsed": true
   },
   "outputs": [],
   "source": [
    "isymata()"
   ]
  },
  {
   "cell_type": "markdown",
   "metadata": {},
   "source": [
    "# Interface with Julia\n",
    "\n",
    "This notebook gives examples of Symata interacting with its host language Julia."
   ]
  },
  {
   "cell_type": "markdown",
   "metadata": {},
   "source": [
    "## Writing and using Julia functions\n",
    "\n",
    "It is easy to write elegant, fast, powerful, flexible, Julia code from within Symata.\n",
    "\n",
    "As a first example, we multiply powers of elements in two arrays and sum the results. We first try two different methods using pure Symata. Then we write a Julia function to do the same thing.\n",
    "\n",
    "Here are the arrays."
   ]
  },
  {
   "cell_type": "code",
   "execution_count": 74,
   "metadata": {
    "collapsed": false
   },
   "outputs": [],
   "source": [
    "x1 = Range(10.0^3)\n",
    "y1 = Range(10.0^3);"
   ]
  },
  {
   "cell_type": "markdown",
   "metadata": {},
   "source": [
    "Define a procedural function in Symata to compute the sum."
   ]
  },
  {
   "cell_type": "code",
   "execution_count": 75,
   "metadata": {
    "collapsed": true
   },
   "outputs": [],
   "source": [
    "g(x_, y_) := Module([s=0],\n",
    "        begin\n",
    "          For(i=1, i<=Length(x), i += 1, s += x[i]^2 * y[i]^(-3))\n",
    "          s\n",
    "        end)"
   ]
  },
  {
   "cell_type": "markdown",
   "metadata": {},
   "source": [
    "Apply this function and time the result."
   ]
  },
  {
   "cell_type": "code",
   "execution_count": 76,
   "metadata": {
    "collapsed": false
   },
   "outputs": [
    {
     "data": {
      "text/latex": [
       "$$  \\left[ 0.087759966,7.485470860550343 \\right]  $$"
      ],
      "text/plain": [
       "L\"$$  \\left[ 0.087759966,7.485470860550343 \\right]  $$\""
      ]
     },
     "execution_count": 76,
     "metadata": {},
     "output_type": "execute_result"
    }
   ],
   "source": [
    "g(x1,y1)\n",
    "\n",
    "resultS1 = Timing(g(x1,y1))"
   ]
  },
  {
   "cell_type": "markdown",
   "metadata": {},
   "source": [
    "In general, it is faster to use mapping and functional methods in Symata.\n",
    "We can compute the sum like this."
   ]
  },
  {
   "cell_type": "code",
   "execution_count": 77,
   "metadata": {
    "collapsed": false,
    "scrolled": true
   },
   "outputs": [
    {
     "data": {
      "text/latex": [
       "$$  \\left[ 0.064353072,7.485470860550343 \\right]  $$"
      ],
      "text/plain": [
       "L\"$$  \\left[ 0.064353072,7.485470860550343 \\right]  $$\""
      ]
     },
     "execution_count": 77,
     "metadata": {},
     "output_type": "execute_result"
    }
   ],
   "source": [
    "Apply(Plus, x1^2 / y1^3)\n",
    "\n",
    "resultS2 = Timing(Apply(Plus, x1^2 / y1^3))"
   ]
  },
  {
   "cell_type": "markdown",
   "metadata": {},
   "source": [
    "The second method is indeed a bit faster."
   ]
  },
  {
   "cell_type": "code",
   "execution_count": 78,
   "metadata": {
    "collapsed": false,
    "scrolled": true
   },
   "outputs": [
    {
     "data": {
      "text/latex": [
       "$$ 1.3637261326079353 $$"
      ],
      "text/plain": [
       "L\"$$ 1.3637261326079353 $$\""
      ]
     },
     "execution_count": 78,
     "metadata": {},
     "output_type": "execute_result"
    }
   ],
   "source": [
    "resultS1[1]/resultS2[1]"
   ]
  },
  {
   "cell_type": "markdown",
   "metadata": {},
   "source": [
    "### Writing a Julia function while in Symata mode\n",
    "\n",
    "Define a Julia function to do the sum. We choose a functional method."
   ]
  },
  {
   "cell_type": "code",
   "execution_count": 79,
   "metadata": {
    "collapsed": false
   },
   "outputs": [],
   "source": [
    "jfunc = J( (x,y) -> sum(u -> u[1]^2 / u[2]^(3), zip(x,y)) );"
   ]
  },
  {
   "cell_type": "code",
   "execution_count": 80,
   "metadata": {
    "collapsed": false
   },
   "outputs": [
    {
     "data": {
      "text/latex": [
       "$$  \\left[ 0.000462344,7.485470860550343 \\right]  $$"
      ],
      "text/plain": [
       "L\"$$  \\left[ 0.000462344,7.485470860550343 \\right]  $$\""
      ]
     },
     "execution_count": 80,
     "metadata": {},
     "output_type": "execute_result"
    }
   ],
   "source": [
    "jfunc(x1,y1)\n",
    "Timing(jfunc(x1,y1))\n",
    "\n",
    "resultJ = Timing(jfunc(x1,y1))"
   ]
  },
  {
   "cell_type": "markdown",
   "metadata": {},
   "source": [
    "The Julia function is much faster."
   ]
  },
  {
   "cell_type": "code",
   "execution_count": 81,
   "metadata": {
    "collapsed": false
   },
   "outputs": [
    {
     "data": {
      "text/latex": [
       "$$  \\left[ 189.81530202619695,139.18872527814787 \\right]  $$"
      ],
      "text/plain": [
       "L\"$$  \\left[ 189.81530202619695,139.18872527814787 \\right]  $$\""
      ]
     },
     "execution_count": 81,
     "metadata": {},
     "output_type": "execute_result"
    }
   ],
   "source": [
    "[resultS1[1], resultS2[1] ] / resultJ[1]"
   ]
  },
  {
   "cell_type": "markdown",
   "metadata": {},
   "source": [
    "We will explain later why it is possible to write such simple and fast code that operates on Symata expressions.\n",
    "\n",
    "The function `f` also works on symbolic expressions."
   ]
  },
  {
   "cell_type": "code",
   "execution_count": 82,
   "metadata": {
    "collapsed": false,
    "scrolled": true
   },
   "outputs": [
    {
     "data": {
      "text/latex": [
       "$$ \\frac{ \\left( c + d \\right) ^{2}}{ \\left( \\text{\"dog\"} + y \\right) ^{3}} + \\frac{ \\left( b + newargs \\!  \\left( 5 \\right)  \\right) ^{2}}{ \\left( u + v \\right) ^{3}} $$"
      ],
      "text/plain": [
       "L\"$$ \\frac{ \\left( c + d \\right) ^{2}}{ \\left( \\text{\\\"dog\\\"} + y \\right) ^{3}} + \\frac{ \\left( b + newargs \\!  \\left( 5 \\right)  \\right) ^{2}}{ \\left( u + v \\right) ^{3}} $$\""
      ]
     },
     "execution_count": 82,
     "metadata": {},
     "output_type": "execute_result"
    }
   ],
   "source": [
    "jfunc([a+b, c+d],[u+v,y+z])"
   ]
  },
  {
   "cell_type": "markdown",
   "metadata": {},
   "source": [
    "### Evaluating Symata expressions from Julia\n",
    "\n",
    "The macro `@sym` evaluates Symata code while in Julia.\n",
    "\n",
    "First, we switch to Julia mode."
   ]
  },
  {
   "cell_type": "code",
   "execution_count": 83,
   "metadata": {
    "collapsed": false
   },
   "outputs": [],
   "source": [
    "Julia();"
   ]
  },
  {
   "cell_type": "markdown",
   "metadata": {},
   "source": [
    "Create a Symata expression and bind it to the Julia variable `expr`."
   ]
  },
  {
   "cell_type": "code",
   "execution_count": 84,
   "metadata": {
    "collapsed": false
   },
   "outputs": [
    {
     "data": {
      "text/plain": [
       ":b + newargs(5)"
      ]
     },
     "execution_count": 84,
     "metadata": {},
     "output_type": "execute_result"
    }
   ],
   "source": [
    "expr = @sym a + b"
   ]
  },
  {
   "cell_type": "markdown",
   "metadata": {},
   "source": [
    "There are julia functions corresponding to many Symata expression heads."
   ]
  },
  {
   "cell_type": "code",
   "execution_count": 85,
   "metadata": {
    "collapsed": false,
    "scrolled": true
   },
   "outputs": [
    {
     "data": {
      "text/plain": [
       ":b^2 + newargs(5)^2 + 2:b*newargs(5)"
      ]
     },
     "execution_count": 85,
     "metadata": {},
     "output_type": "execute_result"
    }
   ],
   "source": [
    "Expand(expr^2)"
   ]
  },
  {
   "cell_type": "markdown",
   "metadata": {},
   "source": [
    "Return to Symata mode"
   ]
  },
  {
   "cell_type": "code",
   "execution_count": 86,
   "metadata": {
    "collapsed": true
   },
   "outputs": [],
   "source": [
    "isymata()"
   ]
  },
  {
   "cell_type": "markdown",
   "metadata": {},
   "source": [
    "### Calling an existing Julia function\n",
    "\n",
    "To define the Julia function, we used the Symata function `J()`. The arguments of `J` are interpreted as pure Julia code, with no translation. It is as if we temporarily enter Julia mode. In fact, we could have defined the function in Julia. Let's try that.\n",
    "\n",
    "First, we enter Julia mode."
   ]
  },
  {
   "cell_type": "code",
   "execution_count": 87,
   "metadata": {
    "collapsed": false
   },
   "outputs": [],
   "source": [
    "Julia();"
   ]
  },
  {
   "cell_type": "markdown",
   "metadata": {},
   "source": [
    "Everything we type will be interpreted as Julia language expressions. We write the Julia function. We will explain later how the function works."
   ]
  },
  {
   "cell_type": "code",
   "execution_count": 88,
   "metadata": {
    "collapsed": false
   },
   "outputs": [
    {
     "name": "stderr",
     "output_type": "stream",
     "text": [
      "WARNING: Method definition fj(Any, Any) in module Main at In[16]:1 overwritten at In[88]:1.\n"
     ]
    }
   ],
   "source": [
    "fj(x,y) = sum(u -> u[1]^2 / u[2]^(3), zip(x,y));"
   ]
  },
  {
   "cell_type": "markdown",
   "metadata": {},
   "source": [
    "Return to Symata mode."
   ]
  },
  {
   "cell_type": "code",
   "execution_count": 89,
   "metadata": {
    "collapsed": false
   },
   "outputs": [],
   "source": [
    "isymata();"
   ]
  },
  {
   "cell_type": "markdown",
   "metadata": {},
   "source": [
    "We set the Symata variable `fj` to the Julia function `fj`. The Julia function was written in the `Main` module. (NB we may change this so Julia functions are evaluated in the Symata module)"
   ]
  },
  {
   "cell_type": "code",
   "execution_count": 90,
   "metadata": {
    "collapsed": false
   },
   "outputs": [
    {
     "data": {
      "text/latex": [
       "$$ 7.485470860550343 $$"
      ],
      "text/plain": [
       "L\"$$ 7.485470860550343 $$\""
      ]
     },
     "execution_count": 90,
     "metadata": {},
     "output_type": "execute_result"
    }
   ],
   "source": [
    "fj = J( Main.fj );\n",
    "\n",
    "fj(x1,y1)"
   ]
  },
  {
   "cell_type": "markdown",
   "metadata": {},
   "source": [
    "We can use `J()` in this way to call any existing Julia function...\n",
    "\n",
    "    time()\n",
    "\n",
    "      Get the system time in seconds since the epoch, with fairly high (typically,   \n",
    "      microsecond) resolution.\n"
   ]
  },
  {
   "cell_type": "code",
   "execution_count": 91,
   "metadata": {
    "collapsed": false
   },
   "outputs": [
    {
     "data": {
      "text/latex": [
       "$$ 1.480191633558618e9 $$"
      ],
      "text/plain": [
       "L\"$$ 1.480191633558618e9 $$\""
      ]
     },
     "execution_count": 91,
     "metadata": {},
     "output_type": "execute_result"
    }
   ],
   "source": [
    "J(time)()"
   ]
  },
  {
   "cell_type": "markdown",
   "metadata": {},
   "source": [
    "## Julia functions for Symata\n",
    "\n",
    "How does the Julia function \n",
    "```\n",
    "jfunc = (x,y) -> sum(u -> u[1]^2 / u[2]^(3), zip(x,y))\n",
    "```\n",
    "work ?\n",
    "\n",
    "As in Symata, `x -> body` defines a pure, or anonymous, function. `zip` returns a list of pairs of elements from two lists. In fact, it returns a virtual list, called an *iterator*, which is more efficient. These pairs are supplied sequentially to the to the function, and the results are summed. No intermediate arrays are formed.\n",
    "\n",
    "Symata expressions are *iterable objects* in Julia. Most Julia code that operates on iterable objects will work with Symata expressions. `zip` takes two iterable objects and returns an iterable object.\n",
    "In Julia, Symata expressions are of type `Mxpr`. Notice that we did not write `Mxpr` anywhere in the code. The first  time `jfunc` is called with Symata expressions, Julia compiles a method to handle just this case. The compiler is typically very good at writing code optimized for the input type.\n",
    "\n",
    "All of this means that the author of Symata wrote no code to implement `zip` or `sum` for Symata expressions.\n",
    "\n",
    "In fact `jfunc` can be called with many types objects. To demonstrate this, we perform the sum operation on a Symata list and a Julia Array.\n",
    "\n",
    "We set the Symata variable `y2` to a Julia `Array` of 1000 numbers."
   ]
  },
  {
   "cell_type": "code",
   "execution_count": 92,
   "metadata": {
    "collapsed": false
   },
   "outputs": [
    {
     "data": {
      "text/latex": [
       "$$ linspace(1.0,1000.0,1000) $$"
      ],
      "text/plain": [
       "L\"$$ linspace(1.0,1000.0,1000) $$\""
      ]
     },
     "execution_count": 92,
     "metadata": {},
     "output_type": "execute_result"
    }
   ],
   "source": [
    "y2 = J(linspace(1,1000.0,1000))"
   ]
  },
  {
   "cell_type": "markdown",
   "metadata": {},
   "source": [
    "Notice that 1000 numbers were not printed. `linspace` returns a virtual array, that is an iterator. We call `jfunc` twice. The first time, Julia compiles a method for the input types which takes some (not much) time."
   ]
  },
  {
   "cell_type": "code",
   "execution_count": 93,
   "metadata": {
    "collapsed": false
   },
   "outputs": [
    {
     "data": {
      "text/latex": [
       "$$  \\left[ 0.000531506,7.485470860550343 \\right]  $$"
      ],
      "text/plain": [
       "L\"$$  \\left[ 0.000531506,7.485470860550343 \\right]  $$\""
      ]
     },
     "execution_count": 93,
     "metadata": {},
     "output_type": "execute_result"
    }
   ],
   "source": [
    "jfunc(x1,y2)\n",
    "resultJ2 = Timing(jfunc(x1,y2))"
   ]
  },
  {
   "cell_type": "markdown",
   "metadata": {},
   "source": [
    "Notice that summing over the two types of arrays is a bit slower in this case than using two Symata arrays."
   ]
  },
  {
   "cell_type": "code",
   "execution_count": 94,
   "metadata": {
    "collapsed": false,
    "scrolled": true
   },
   "outputs": [
    {
     "data": {
      "text/latex": [
       "$$ 0.8698754106256562 $$"
      ],
      "text/plain": [
       "L\"$$ 0.8698754106256562 $$\""
      ]
     },
     "execution_count": 94,
     "metadata": {},
     "output_type": "execute_result"
    }
   ],
   "source": [
    "resultJ[1]/resultJ2[1]"
   ]
  },
  {
   "cell_type": "markdown",
   "metadata": {},
   "source": [
    "Now we call `jfunc` on two Julia abstract arrays."
   ]
  },
  {
   "cell_type": "code",
   "execution_count": 95,
   "metadata": {
    "collapsed": false
   },
   "outputs": [
    {
     "data": {
      "text/latex": [
       "$$  \\left[ 4.936e-5,7.485470860550343 \\right]  $$"
      ],
      "text/plain": [
       "L\"$$  \\left[ 4.936e-5,7.485470860550343 \\right]  $$\""
      ]
     },
     "execution_count": 95,
     "metadata": {},
     "output_type": "execute_result"
    }
   ],
   "source": [
    "jfunc(y2,y2)\n",
    "resultJ3 = Timing(jfunc(y2,y2))"
   ]
  },
  {
   "cell_type": "markdown",
   "metadata": {},
   "source": [
    "Operating on these Julia arrays is about 10 times faster in this case than including a Symata array."
   ]
  },
  {
   "cell_type": "code",
   "execution_count": 96,
   "metadata": {
    "collapsed": false
   },
   "outputs": [
    {
     "data": {
      "text/latex": [
       "$$ 10.767949756888166 $$"
      ],
      "text/plain": [
       "L\"$$ 10.767949756888166 $$\""
      ]
     },
     "execution_count": 96,
     "metadata": {},
     "output_type": "execute_result"
    }
   ],
   "source": [
    "resultJ2[1]/resultJ3[1]"
   ]
  },
  {
   "cell_type": "markdown",
   "metadata": {},
   "source": [
    "### `Unpack`:   Importing Julia arrays into Symata\n",
    "\n",
    "Recall the abstract Julia array that we created above"
   ]
  },
  {
   "cell_type": "code",
   "execution_count": 97,
   "metadata": {
    "collapsed": false
   },
   "outputs": [
    {
     "data": {
      "text/latex": [
       "$$ linspace(1.0,1000.0,1000) $$"
      ],
      "text/plain": [
       "L\"$$ linspace(1.0,1000.0,1000) $$\""
      ]
     },
     "execution_count": 97,
     "metadata": {},
     "output_type": "execute_result"
    }
   ],
   "source": [
    "y2"
   ]
  },
  {
   "cell_type": "markdown",
   "metadata": {},
   "source": [
    "We import `y2` into Symata using `Unpack`. (`Unpack` currently works only with one dimensional arrays.)"
   ]
  },
  {
   "cell_type": "code",
   "execution_count": 98,
   "metadata": {
    "collapsed": false
   },
   "outputs": [],
   "source": [
    "y3 = Unpack(y2);"
   ]
  },
  {
   "cell_type": "markdown",
   "metadata": {},
   "source": [
    "The result is a Symata list. We check that it is indeed a list of the expected length and the first and last elements."
   ]
  },
  {
   "cell_type": "code",
   "execution_count": 99,
   "metadata": {
    "collapsed": false
   },
   "outputs": [
    {
     "data": {
      "text/latex": [
       "$$  \\left[ \\text{List},1000,1.0,1000.0 \\right]  $$"
      ],
      "text/plain": [
       "L\"$$  \\left[ \\text{List},1000,1.0,1000.0 \\right]  $$\""
      ]
     },
     "execution_count": 99,
     "metadata": {},
     "output_type": "execute_result"
    }
   ],
   "source": [
    "[Head(y3), Length(y3), y3[1], y3[-1]]"
   ]
  },
  {
   "cell_type": "markdown",
   "metadata": {},
   "source": [
    "`y3` is equal to `y1`, which was created with Range."
   ]
  },
  {
   "cell_type": "code",
   "execution_count": 100,
   "metadata": {
    "collapsed": false,
    "scrolled": true
   },
   "outputs": [
    {
     "data": {
      "text/latex": [
       "$$ \\text{True} $$"
      ],
      "text/plain": [
       "L\"$$ \\text{True} $$\""
      ]
     },
     "execution_count": 100,
     "metadata": {},
     "output_type": "execute_result"
    }
   ],
   "source": [
    "y3 == y1 == Range(10.0^3)"
   ]
  },
  {
   "cell_type": "markdown",
   "metadata": {},
   "source": [
    "`y3` is not a `packed` array, but an ordinary Symata array, a list."
   ]
  },
  {
   "cell_type": "code",
   "execution_count": 101,
   "metadata": {
    "collapsed": false,
    "scrolled": true
   },
   "outputs": [
    {
     "data": {
      "text/latex": [
       "$$ \\text{\"cat\"} $$"
      ],
      "text/plain": [
       "L\"$$ \\text{\\\"cat\\\"} $$\""
      ]
     },
     "execution_count": 101,
     "metadata": {},
     "output_type": "execute_result"
    }
   ],
   "source": [
    "y3[1] = \"cat\""
   ]
  },
  {
   "cell_type": "code",
   "execution_count": 102,
   "metadata": {
    "collapsed": false
   },
   "outputs": [
    {
     "data": {
      "text/latex": [
       "$$  \\left[ \\text{\"cat\"},2.0,3.0,4.0,5.0,6.0,7.0,8.0,9.0,10.0 \\right]  $$"
      ],
      "text/plain": [
       "L\"$$  \\left[ \\text{\\\"cat\\\"},2.0,3.0,4.0,5.0,6.0,7.0,8.0,9.0,10.0 \\right]  $$\""
      ]
     },
     "execution_count": 102,
     "metadata": {},
     "output_type": "execute_result"
    }
   ],
   "source": [
    "y3[1:10]"
   ]
  },
  {
   "cell_type": "markdown",
   "metadata": {},
   "source": [
    "Of course, we can unpack not just abstract Julia arrays, but physical arrays as well. The Julia function for converting an abstract array to a physical array is `collect`."
   ]
  },
  {
   "cell_type": "code",
   "execution_count": 103,
   "metadata": {
    "collapsed": true
   },
   "outputs": [],
   "source": [
    "y4 = J(collect)(y2);"
   ]
  },
  {
   "cell_type": "markdown",
   "metadata": {},
   "source": [
    "Notice what we did here. `J(collect)` gets a Symata reference to the Julia function `collect`. We then call the imported function on the Symata variable `y2`, which refers to an abstract Julia array.\n",
    "\n",
    "Now we have a physical Julia array"
   ]
  },
  {
   "cell_type": "code",
   "execution_count": 104,
   "metadata": {
    "collapsed": false
   },
   "outputs": [
    {
     "data": {
      "text/latex": [
       "$$  \\left[ \\text{Array{Float64,1}},1.0 \\right]  $$"
      ],
      "text/plain": [
       "L\"$$  \\left[ \\text{Array{Float64,1}},1.0 \\right]  $$\""
      ]
     },
     "execution_count": 104,
     "metadata": {},
     "output_type": "execute_result"
    }
   ],
   "source": [
    "[Head(y4), y4[1]]"
   ]
  },
  {
   "cell_type": "markdown",
   "metadata": {},
   "source": [
    "You can also construct a Symata expression directly in Julia, like this."
   ]
  },
  {
   "cell_type": "code",
   "execution_count": 105,
   "metadata": {
    "collapsed": true
   },
   "outputs": [],
   "source": [
    "y5 = J(mxpr(:List, Any[collect(linspace(1.0,1000,1000))...]));"
   ]
  },
  {
   "cell_type": "code",
   "execution_count": 106,
   "metadata": {
    "collapsed": false,
    "scrolled": true
   },
   "outputs": [
    {
     "data": {
      "text/latex": [
       "$$  \\left[ \\text{List},1000.0 \\right]  $$"
      ],
      "text/plain": [
       "L\"$$  \\left[ \\text{List},1000.0 \\right]  $$\""
      ]
     },
     "execution_count": 106,
     "metadata": {},
     "output_type": "execute_result"
    }
   ],
   "source": [
    "[Head(y5), y5[-1]]"
   ]
  },
  {
   "cell_type": "markdown",
   "metadata": {},
   "source": [
    "### `Pack`:   Converting Symata arrays to Julia arrays.\n",
    "\n",
    "\n",
    "Recall that `y1` and `y3` are both Symata lists."
   ]
  },
  {
   "cell_type": "code",
   "execution_count": 107,
   "metadata": {
    "collapsed": false,
    "scrolled": true
   },
   "outputs": [
    {
     "data": {
      "text/latex": [
       "$$  \\left[ \\text{List},\\text{List} \\right]  $$"
      ],
      "text/plain": [
       "L\"$$  \\left[ \\text{List},\\text{List} \\right]  $$\""
      ]
     },
     "execution_count": 107,
     "metadata": {},
     "output_type": "execute_result"
    }
   ],
   "source": [
    "[Head(y1), Head(y3)]"
   ]
  },
  {
   "cell_type": "markdown",
   "metadata": {},
   "source": [
    "We unpack these lists to Julia arrays like this."
   ]
  },
  {
   "cell_type": "code",
   "execution_count": 108,
   "metadata": {
    "collapsed": true
   },
   "outputs": [],
   "source": [
    "y6 = Pack(y1)\n",
    "y7 = Pack(y3);"
   ]
  },
  {
   "cell_type": "markdown",
   "metadata": {},
   "source": [
    "What type of object was created ?"
   ]
  },
  {
   "cell_type": "code",
   "execution_count": 109,
   "metadata": {
    "collapsed": false,
    "scrolled": true
   },
   "outputs": [
    {
     "data": {
      "text/latex": [
       "$$  \\left[ \\text{Array{Float64,1}},\\text{Array{Any,1}} \\right]  $$"
      ],
      "text/plain": [
       "L\"$$  \\left[ \\text{Array{Float64,1}},\\text{Array{Any,1}} \\right]  $$\""
      ]
     },
     "execution_count": 109,
     "metadata": {},
     "output_type": "execute_result"
    }
   ],
   "source": [
    "[Head(y6), Head(y7)]"
   ]
  },
  {
   "cell_type": "markdown",
   "metadata": {},
   "source": [
    "The first array is of type `Float64` and the second of type `Any`. They are different because, while all elements of `y1` are floating point numbers, we set the first element of `y7` to `\"cat\"`. When copying arrays, Julia creates a container of the most specific type that will contain all elements."
   ]
  },
  {
   "cell_type": "markdown",
   "metadata": {},
   "source": [
    "## Using Symata in Julia code"
   ]
  },
  {
   "cell_type": "code",
   "execution_count": 110,
   "metadata": {
    "collapsed": true
   },
   "outputs": [],
   "source": [
    "# isymata()"
   ]
  },
  {
   "cell_type": "markdown",
   "metadata": {},
   "source": [
    "Switch from Symata to Julia mode"
   ]
  },
  {
   "cell_type": "code",
   "execution_count": 111,
   "metadata": {
    "collapsed": false
   },
   "outputs": [],
   "source": [
    "Julia();"
   ]
  },
  {
   "cell_type": "markdown",
   "metadata": {},
   "source": [
    "The macro `@sym` interprets and evaluates its argument in Symata."
   ]
  },
  {
   "cell_type": "code",
   "execution_count": 112,
   "metadata": {
    "collapsed": false
   },
   "outputs": [
    {
     "name": "stdout",
     "output_type": "stream",
     "text": [
      "a in Julia is 1\n",
      "a in Symata is 3\n"
     ]
    }
   ],
   "source": [
    "a = 1        # set a to 1 in Julia\n",
    "@sym a = 3   # set a to 3 in Symata\n",
    "println(\"a in Julia is $a\")   # print a in Julia\n",
    "@sym Println(\"a in Symata is $a\") # print a in Symata"
   ]
  },
  {
   "cell_type": "markdown",
   "metadata": {},
   "source": [
    "You can assign a value in Symata by using `@sym`"
   ]
  },
  {
   "cell_type": "code",
   "execution_count": 113,
   "metadata": {
    "collapsed": false
   },
   "outputs": [
    {
     "data": {
      "text/plain": [
       "\"cat\""
      ]
     },
     "execution_count": 113,
     "metadata": {},
     "output_type": "execute_result"
    }
   ],
   "source": [
    "@sym z = \"cat\"\n",
    "@sym z"
   ]
  },
  {
   "cell_type": "markdown",
   "metadata": {},
   "source": [
    "But `@sym` will not work inside a function. Use `getsymata` and `setsymata` instead"
   ]
  },
  {
   "cell_type": "code",
   "execution_count": 114,
   "metadata": {
    "collapsed": false
   },
   "outputs": [
    {
     "data": {
      "text/plain": [
       "\"cat\""
      ]
     },
     "execution_count": 114,
     "metadata": {},
     "output_type": "execute_result"
    }
   ],
   "source": [
    "getsymata(:z)"
   ]
  },
  {
   "cell_type": "code",
   "execution_count": 115,
   "metadata": {
    "collapsed": false,
    "scrolled": true
   },
   "outputs": [
    {
     "data": {
      "text/plain": [
       "\"dog\""
      ]
     },
     "execution_count": 115,
     "metadata": {},
     "output_type": "execute_result"
    }
   ],
   "source": [
    "setsymata(:z, \"dog\")\n",
    "getsymata(:z)"
   ]
  },
  {
   "cell_type": "markdown",
   "metadata": {},
   "source": [
    "`unpacktoList` converts a Julia array to a Symat list. "
   ]
  },
  {
   "cell_type": "code",
   "execution_count": 116,
   "metadata": {
    "collapsed": false,
    "scrolled": false
   },
   "outputs": [
    {
     "data": {
      "text/plain": [
       "[1.0,2.5,4.0]"
      ]
     },
     "execution_count": 116,
     "metadata": {},
     "output_type": "execute_result"
    }
   ],
   "source": [
    "unpacktoList(linspace(1,4,3))"
   ]
  },
  {
   "cell_type": "markdown",
   "metadata": {},
   "source": [
    "Parse a string of Symata code"
   ]
  },
  {
   "cell_type": "code",
   "execution_count": 117,
   "metadata": {
    "collapsed": false
   },
   "outputs": [
    {
     "data": {
      "text/plain": [
       ":(Sqrt(a))"
      ]
     },
     "execution_count": 117,
     "metadata": {},
     "output_type": "execute_result"
    }
   ],
   "source": [
    "scode = parse(\"Sqrt(a)\")"
   ]
  },
  {
   "cell_type": "markdown",
   "metadata": {},
   "source": [
    "This is a valid Julia expression, although evaluating it in Julia may cause an error. We translate the expression to Symata and send it through the Symata evaluation sequence."
   ]
  },
  {
   "cell_type": "code",
   "execution_count": 118,
   "metadata": {
    "collapsed": false
   },
   "outputs": [
    {
     "data": {
      "text/plain": [
       "3^(1//2)"
      ]
     },
     "execution_count": 118,
     "metadata": {},
     "output_type": "execute_result"
    }
   ],
   "source": [
    "res = symtranseval(scode)"
   ]
  },
  {
   "cell_type": "markdown",
   "metadata": {},
   "source": [
    "Print this as Symata would"
   ]
  },
  {
   "cell_type": "code",
   "execution_count": 119,
   "metadata": {
    "collapsed": false
   },
   "outputs": [
    {
     "name": "stdout",
     "output_type": "stream",
     "text": [
      "3^(1/2)\n"
     ]
    }
   ],
   "source": [
    "symprintln(res)"
   ]
  },
  {
   "cell_type": "markdown",
   "metadata": {},
   "source": [
    "Put this together in a function"
   ]
  },
  {
   "cell_type": "code",
   "execution_count": 120,
   "metadata": {
    "collapsed": false
   },
   "outputs": [
    {
     "name": "stdout",
     "output_type": "stream",
     "text": [
      "[1,2^(1/2),3^(1/2),2,5^(1/2),2^(1/2)*3^(1/2),7^(1/2),22^(1/2),3]\n"
     ]
    },
    {
     "name": "stderr",
     "output_type": "stream",
     "text": [
      "WARNING: Method definition squareroots() in module Main at In[48]:2 overwritten at In[120]:2.\n"
     ]
    }
   ],
   "source": [
    "function squareroots()\n",
    "    a = [i for i in 1:9]\n",
    "    setsymata(:a, unpacktoList(a))\n",
    "    symprintln(symparseeval(\"Sqrt(a)\"))\n",
    "    nothing\n",
    "end\n",
    "\n",
    "squareroots()"
   ]
  },
  {
   "cell_type": "code",
   "execution_count": 121,
   "metadata": {
    "collapsed": true
   },
   "outputs": [],
   "source": [
    "isymata()"
   ]
  },
  {
   "cell_type": "markdown",
   "metadata": {},
   "source": [
    "You can translate Symata to Julia like this"
   ]
  },
  {
   "cell_type": "code",
   "execution_count": 122,
   "metadata": {
    "collapsed": false,
    "scrolled": false
   },
   "outputs": [
    {
     "data": {
      "text/latex": [
       "$$ \\text{\"mplus(mmul(3,mpow(x,2),mpow(y,3)),Cos(1))\"} $$"
      ],
      "text/plain": [
       "L\"$$ \\text{\\\"mplus(mmul(3,mpow(x,2),mpow(y,3)),Cos(1))\\\"} $$\""
      ]
     },
     "execution_count": 122,
     "metadata": {},
     "output_type": "execute_result"
    }
   ],
   "source": [
    "ToJuliaString( 3*x^2*y^3 + Cos(1))"
   ]
  },
  {
   "cell_type": "markdown",
   "metadata": {},
   "source": [
    "The following gives code that will only work when the Symata module is loaded."
   ]
  },
  {
   "cell_type": "code",
   "execution_count": 123,
   "metadata": {
    "collapsed": false,
    "scrolled": false
   },
   "outputs": [
    {
     "data": {
      "text/latex": [
       "$$ \\text{\"mplus(mmul(3,mpow(x,2),mpow(y,3)),Cos(1))\"} $$"
      ],
      "text/plain": [
       "L\"$$ \\text{\\\"mplus(mmul(3,mpow(x,2),mpow(y,3)),Cos(1))\\\"} $$\""
      ]
     },
     "execution_count": 123,
     "metadata": {},
     "output_type": "execute_result"
    }
   ],
   "source": [
    "s2 = ToJuliaString( 3*x^2*y^3 + Cos(1), NoSymata => False)"
   ]
  },
  {
   "cell_type": "markdown",
   "metadata": {},
   "source": [
    "## Symata expressions are of type `Mxpr`"
   ]
  },
  {
   "cell_type": "markdown",
   "metadata": {},
   "source": [
    "We assigned a value to `a` in symata"
   ]
  },
  {
   "cell_type": "code",
   "execution_count": 124,
   "metadata": {
    "collapsed": false
   },
   "outputs": [
    {
     "name": "stdout",
     "output_type": "stream",
     "text": [
      "UndefVarError(:a)\n"
     ]
    },
    {
     "name": "stderr",
     "output_type": "stream",
     "text": [
      "WARNING: :( ) for Julia code is deprecated. Use J( ) instead\n"
     ]
    },
    {
     "ename": "LoadError",
     "evalue": "LoadError: UndefVarError: a not defined\nwhile loading In[124], in expression starting on line 1",
     "output_type": "error",
     "traceback": [
      "LoadError: UndefVarError: a not defined\nwhile loading In[124], in expression starting on line 1",
      ""
     ]
    }
   ],
   "source": [
    "a = getsymata(:a)"
   ]
  },
  {
   "cell_type": "code",
   "execution_count": 125,
   "metadata": {
    "collapsed": false
   },
   "outputs": [
    {
     "data": {
      "text/latex": [
       "$$ typeof \\!  \\left(  \\left[ 1,2,3,4,5,6,7,8,9 \\right]  \\right)  $$"
      ],
      "text/plain": [
       "L\"$$ typeof \\!  \\left(  \\left[ 1,2,3,4,5,6,7,8,9 \\right]  \\right)  $$\""
      ]
     },
     "execution_count": 125,
     "metadata": {},
     "output_type": "execute_result"
    }
   ],
   "source": [
    "typeof(a)"
   ]
  },
  {
   "cell_type": "markdown",
   "metadata": {},
   "source": [
    "`mhead` returns the head of a symata expression."
   ]
  },
  {
   "cell_type": "code",
   "execution_count": 126,
   "metadata": {
    "collapsed": false,
    "scrolled": true
   },
   "outputs": [
    {
     "data": {
      "text/latex": [
       "$$ mhead \\!  \\left(  \\left[ 1,2,3,4,5,6,7,8,9 \\right]  \\right)  $$"
      ],
      "text/plain": [
       "L\"$$ mhead \\!  \\left(  \\left[ 1,2,3,4,5,6,7,8,9 \\right]  \\right)  $$\""
      ]
     },
     "execution_count": 126,
     "metadata": {},
     "output_type": "execute_result"
    }
   ],
   "source": [
    "mhead(a)"
   ]
  },
  {
   "cell_type": "markdown",
   "metadata": {},
   "source": [
    "`margs` returns the arguments of a Symata expression."
   ]
  },
  {
   "cell_type": "code",
   "execution_count": 127,
   "metadata": {
    "collapsed": false
   },
   "outputs": [
    {
     "data": {
      "text/latex": [
       "$$ margs \\!  \\left(  \\left[ 1,2,3,4,5,6,7,8,9 \\right]  \\right)  $$"
      ],
      "text/plain": [
       "L\"$$ margs \\!  \\left(  \\left[ 1,2,3,4,5,6,7,8,9 \\right]  \\right)  $$\""
      ]
     },
     "execution_count": 127,
     "metadata": {},
     "output_type": "execute_result"
    }
   ],
   "source": [
    "margs(a)"
   ]
  },
  {
   "cell_type": "markdown",
   "metadata": {},
   "source": [
    "### Use `mxpr` to construct a Symata expression"
   ]
  },
  {
   "cell_type": "code",
   "execution_count": 128,
   "metadata": {
    "collapsed": false
   },
   "outputs": [
    {
     "data": {
      "text/latex": [
       "$$ mxpr \\!  \\left( Symata.Cos,mxpr \\!  \\left( Symata.Times, \\pi ,2 \\right)  \\right)  $$"
      ],
      "text/plain": [
       "L\"$$ mxpr \\!  \\left( Symata.Cos,mxpr \\!  \\left( Symata.Times, \\pi ,2 \\right)  \\right)  $$\""
      ]
     },
     "execution_count": 128,
     "metadata": {},
     "output_type": "execute_result"
    }
   ],
   "source": [
    "ex = mxpr(J(Cos), mxpr(J(Times), J(Pi), 2))"
   ]
  },
  {
   "cell_type": "markdown",
   "metadata": {},
   "source": [
    "`mxpr` creates an object but does not evaluate it. Evaluate `ex` with `symeval`."
   ]
  },
  {
   "cell_type": "code",
   "execution_count": 129,
   "metadata": {
    "collapsed": false
   },
   "outputs": [
    {
     "data": {
      "text/latex": [
       "$$ symeval \\!  \\left( mxpr \\!  \\left( Symata.Cos,mxpr \\!  \\left( Symata.Times, \\pi ,2 \\right)  \\right)  \\right)  $$"
      ],
      "text/plain": [
       "L\"$$ symeval \\!  \\left( mxpr \\!  \\left( Symata.Cos,mxpr \\!  \\left( Symata.Times, \\pi ,2 \\right)  \\right)  \\right)  $$\""
      ]
     },
     "execution_count": 129,
     "metadata": {},
     "output_type": "execute_result"
    }
   ],
   "source": [
    "symeval(ex)"
   ]
  },
  {
   "cell_type": "markdown",
   "metadata": {},
   "source": [
    "It may be more efficient to create a Symata expression by first filling an array of arguments"
   ]
  },
  {
   "cell_type": "code",
   "execution_count": 130,
   "metadata": {
    "collapsed": false
   },
   "outputs": [],
   "source": [
    "a = newargs(5);"
   ]
  },
  {
   "cell_type": "code",
   "execution_count": 131,
   "metadata": {
    "collapsed": false
   },
   "outputs": [
    {
     "name": "stdout",
     "output_type": "stream",
     "text": [
      "Expr\n",
      "  head: Symbol comprehension\n",
      "  args: Array{Any}((1,))\n",
      "    1: Expr\n",
      "      head: Symbol generator\n",
      "      args: Array{Any}((2,))\n",
      "        1: Symbol i\n",
      "        2: Expr\n",
      "          head: Symbol =\n",
      "          args: Array{Any}((2,))\n",
      "            1: Symbol i\n",
      "            2: Expr\n",
      "              head: Symbol :\n",
      "              args: Array{Any}((2,))\n",
      "                1: Int64 1\n",
      "                2: Int64 5\n",
      "              typ: Any\n",
      "          typ: Any\n",
      "      typ: Any\n",
      "  typ: Any\n"
     ]
    },
    {
     "ename": "LoadError",
     "evalue": "LoadError: extomx: No translation for Expr head 'comprehension' in [i for i = 1:5]\nwhile loading In[131], in expression starting on line 1",
     "output_type": "error",
     "traceback": [
      "LoadError: extomx: No translation for Expr head 'comprehension' in [i for i = 1:5]\nwhile loading In[131], in expression starting on line 1",
      ""
     ]
    }
   ],
   "source": [
    "copy!(a, [i for i in 1:5])"
   ]
  },
  {
   "cell_type": "code",
   "execution_count": 132,
   "metadata": {
    "collapsed": false
   },
   "outputs": [
    {
     "name": "stderr",
     "output_type": "stream",
     "text": [
      "WARNING: :( ) for Julia code is deprecated. Use J( ) instead\n"
     ]
    },
    {
     "data": {
      "text/latex": [
       "$$ mxpra \\!  \\left( Symata.List,newargs \\!  \\left( 5 \\right)  \\right)  $$"
      ],
      "text/plain": [
       "L\"$$ mxpra \\!  \\left( Symata.List,newargs \\!  \\left( 5 \\right)  \\right)  $$\""
      ]
     },
     "execution_count": 132,
     "metadata": {},
     "output_type": "execute_result"
    }
   ],
   "source": [
    "mxpra(:List,a)"
   ]
  },
  {
   "cell_type": "code",
   "execution_count": 133,
   "metadata": {
    "collapsed": false
   },
   "outputs": [
    {
     "name": "stderr",
     "output_type": "stream",
     "text": [
      "WARNING: :( ) for Julia code is deprecated. Use J( ) instead\n"
     ]
    },
    {
     "data": {
      "text/latex": [
       "$$ mxpra \\!  \\left( Symata.Plus,newargs \\!  \\left( 5 \\right)  \\right)  $$"
      ],
      "text/plain": [
       "L\"$$ mxpra \\!  \\left( Symata.Plus,newargs \\!  \\left( 5 \\right)  \\right)  $$\""
      ]
     },
     "execution_count": 133,
     "metadata": {},
     "output_type": "execute_result"
    }
   ],
   "source": [
    "mxpra(:Plus,a)"
   ]
  },
  {
   "cell_type": "code",
   "execution_count": 134,
   "metadata": {
    "collapsed": false
   },
   "outputs": [
    {
     "name": "stderr",
     "output_type": "stream",
     "text": [
      "WARNING: :( ) for Julia code is deprecated. Use J( ) instead\n"
     ]
    },
    {
     "data": {
      "text/latex": [
       "$$ symeval \\!  \\left( mxpra \\!  \\left( Symata.Plus,newargs \\!  \\left( 5 \\right)  \\right)  \\right)  $$"
      ],
      "text/plain": [
       "L\"$$ symeval \\!  \\left( mxpra \\!  \\left( Symata.Plus,newargs \\!  \\left( 5 \\right)  \\right)  \\right)  $$\""
      ]
     },
     "execution_count": 134,
     "metadata": {},
     "output_type": "execute_result"
    }
   ],
   "source": [
    "symeval(mxpra(:Plus,a))"
   ]
  },
  {
   "cell_type": "markdown",
   "metadata": {},
   "source": [
    "Instead of `mxpr`, we used `mxpra`, which does not copy the array of arguments."
   ]
  },
  {
   "cell_type": "markdown",
   "metadata": {},
   "source": [
    "We can create Symata expressions like this"
   ]
  },
  {
   "cell_type": "code",
   "execution_count": 63,
   "metadata": {
    "collapsed": false
   },
   "outputs": [
    {
     "name": "stderr",
     "output_type": "stream",
     "text": [
      "WARNING: :( ) for Julia code is deprecated. Use J( ) instead\n",
      "WARNING: :( ) for Julia code is deprecated. Use J( ) instead\n"
     ]
    },
    {
     "name": "stdout",
     "output_type": "stream",
     "text": [
      "UndefVarError(:b)\n"
     ]
    },
    {
     "ename": "LoadError",
     "evalue": "LoadError: UndefVarError: b not defined\nwhile loading In[63], in expression starting on line 1",
     "output_type": "error",
     "traceback": [
      "LoadError: UndefVarError: b not defined\nwhile loading In[63], in expression starting on line 1",
      ""
     ]
    }
   ],
   "source": [
    "println(mmul(3,2), \", \" , mmul(:b, :a))"
   ]
  },
  {
   "cell_type": "markdown",
   "metadata": {},
   "source": [
    "`mmul`, `mpow`, `mplus`, `mminus` are arithemtic methods that can create Symata expressions. When called inside a function with numerical arguments, the compiler will replace them with an efficent Julia method"
   ]
  },
  {
   "cell_type": "code",
   "execution_count": 64,
   "metadata": {
    "collapsed": false
   },
   "outputs": [
    {
     "data": {
      "text/latex": [
       "$$ code\\text{_}native \\!  \\left( mmul,\\text{Int64} \\right)  $$"
      ],
      "text/plain": [
       "L\"$$ code\\text{_}native \\!  \\left( mmul,\\text{Int64} \\right)  $$\""
      ]
     },
     "execution_count": 64,
     "metadata": {},
     "output_type": "execute_result"
    }
   ],
   "source": [
    "code_native(mmul,(Int,Int))"
   ]
  },
  {
   "cell_type": "code",
   "execution_count": 65,
   "metadata": {
    "collapsed": false
   },
   "outputs": [
    {
     "data": {
      "text/latex": [
       "$$ code\\text{_}native \\!  \\left( \\text{Times},\\text{Int64} \\right)  $$"
      ],
      "text/plain": [
       "L\"$$ code\\text{_}native \\!  \\left( \\text{Times},\\text{Int64} \\right)  $$\""
      ]
     },
     "execution_count": 65,
     "metadata": {},
     "output_type": "execute_result"
    }
   ],
   "source": [
    "code_native(*, (Int,Int))"
   ]
  },
  {
   "cell_type": "markdown",
   "metadata": {},
   "source": [
    "Many Symata functions have equivalents in Julia. These functions both construct Symata expressions and evaluate them."
   ]
  },
  {
   "cell_type": "code",
   "execution_count": 66,
   "metadata": {
    "collapsed": false,
    "scrolled": true
   },
   "outputs": [
    {
     "data": {
      "text/latex": [
       "$$ \\text{Cos} \\!  \\left( mmul \\!  \\left( 2, \\pi  \\right)  \\right)  $$"
      ],
      "text/plain": [
       "L\"$$ \\text{Cos} \\!  \\left( mmul \\!  \\left( 2, \\pi  \\right)  \\right)  $$\""
      ]
     },
     "execution_count": 66,
     "metadata": {},
     "output_type": "execute_result"
    }
   ],
   "source": [
    "Cos(mmul(2,Pi))"
   ]
  },
  {
   "cell_type": "markdown",
   "metadata": {},
   "source": [
    "`symmatamath()` defines methods allowing you to use `*` for `mmul`, etc."
   ]
  },
  {
   "cell_type": "code",
   "execution_count": 67,
   "metadata": {
    "collapsed": false
   },
   "outputs": [
    {
     "data": {
      "text/latex": [
       "$$ symatamath \\!  \\left(  \\right)  $$"
      ],
      "text/plain": [
       "L\"$$ symatamath \\!  \\left(  \\right)  $$\""
      ]
     },
     "execution_count": 67,
     "metadata": {},
     "output_type": "execute_result"
    }
   ],
   "source": [
    "symatamath()"
   ]
  },
  {
   "cell_type": "code",
   "execution_count": 68,
   "metadata": {
    "collapsed": false,
    "scrolled": true
   },
   "outputs": [
    {
     "data": {
      "text/latex": [
       "$$ 1 $$"
      ],
      "text/plain": [
       "L\"$$ 1 $$\""
      ]
     },
     "execution_count": 68,
     "metadata": {},
     "output_type": "execute_result"
    }
   ],
   "source": [
    "Cos(2Pi)"
   ]
  },
  {
   "cell_type": "markdown",
   "metadata": {},
   "source": [
    "Note that `Cos` is replaced by efficient Julia methods when possible."
   ]
  }
 ],
 "metadata": {
  "kernelspec": {
   "display_name": "Julia 0.5.0",
   "language": "julia",
   "name": "julia-0.5"
  },
  "language_info": {
   "file_extension": ".jl",
   "mimetype": "application/julia",
   "name": "julia",
   "version": "0.5.0"
  }
 },
 "nbformat": 4,
 "nbformat_minor": 1
}
