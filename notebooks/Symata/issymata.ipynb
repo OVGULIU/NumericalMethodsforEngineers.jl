{
 "cells": [
  {
   "cell_type": "code",
   "execution_count": 13,
   "metadata": {
    "collapsed": false
   },
   "outputs": [
    {
     "name": "stderr",
     "output_type": "stream",
     "text": [
      "WARNING: Method definition issymata() in module Main at In[6]:2 overwritten at In[13]:2.\n"
     ]
    },
    {
     "data": {
      "text/plain": [
       "issymata (generic function with 1 method)"
      ]
     },
     "execution_count": 13,
     "metadata": {},
     "output_type": "execute_result"
    }
   ],
   "source": [
    "function issymata()\n",
    "    res=false\n",
    "    try\n",
    "        isymata()\n",
    "    catch\n",
    "        res=true\n",
    "    end\n",
    "    res\n",
    "end"
   ]
  },
  {
   "cell_type": "code",
   "execution_count": 17,
   "metadata": {
    "collapsed": false
   },
   "outputs": [
    {
     "data": {
      "text/latex": [
       "$$ \\text{True} $$"
      ],
      "text/plain": [
       "L\"$$ \\text{True} $$\""
      ]
     },
     "execution_count": 17,
     "metadata": {},
     "output_type": "execute_result"
    }
   ],
   "source": [
    "@sym issymata() = True"
   ]
  },
  {
   "cell_type": "code",
   "execution_count": 22,
   "metadata": {
    "collapsed": false
   },
   "outputs": [
    {
     "name": "stdout",
     "output_type": "stream",
     "text": [
      "Expr\n",
      "  head: Symbol if\n",
      "  args: Array{Any}((2,))\n",
      "    1: Expr\n",
      "      head: Symbol call\n",
      "      args: Array{Any}((1,))\n",
      "        1: Symbol issymata\n",
      "      typ: Any\n",
      "    2: Expr\n",
      "      head: Symbol block\n",
      "      args: Array{Any}((2,))\n",
      "        1: Expr\n",
      "          head: Symbol line\n",
      "          args: Array{Any}((2,))\n",
      "            1: Int64 3\n",
      "            2: Symbol In[22]\n",
      "          typ: Any\n",
      "        2: Expr\n",
      "          head: Symbol call\n",
      "          args: Array{Any}((1,))\n",
      "            1: Symbol Julia\n",
      "          typ: Any\n",
      "      typ: Any\n",
      "  typ: Any\n"
     ]
    },
    {
     "ename": "LoadError",
     "evalue": "LoadError: extomx: No translation for Expr head 'if' in if issymata() # In[22], line 3:\n    Julia()\nend\nwhile loading In[22], in expression starting on line 1",
     "output_type": "error",
     "traceback": [
      "LoadError: extomx: No translation for Expr head 'if' in if issymata() # In[22], line 3:\n    Julia()\nend\nwhile loading In[22], in expression starting on line 1",
      ""
     ]
    }
   ],
   "source": [
    "if issymata()\n",
    "    Julia()\n",
    "end\n",
    "using Symata"
   ]
  },
  {
   "cell_type": "code",
   "execution_count": 18,
   "metadata": {
    "collapsed": false
   },
   "outputs": [
    {
     "data": {
      "text/latex": [
       "$$ \\text{True} $$"
      ],
      "text/plain": [
       "L\"$$ \\text{True} $$\""
      ]
     },
     "execution_count": 18,
     "metadata": {},
     "output_type": "execute_result"
    }
   ],
   "source": [
    "issymata()"
   ]
  },
  {
   "cell_type": "code",
   "execution_count": 19,
   "metadata": {
    "collapsed": false
   },
   "outputs": [
    {
     "data": {
      "application/javascript": [
       "$(\"div.input_prompt\").css({\"color\": \"green\"})"
      ]
     },
     "metadata": {},
     "output_type": "display_data"
    }
   ],
   "source": [
    "Julia()"
   ]
  },
  {
   "cell_type": "code",
   "execution_count": 15,
   "metadata": {
    "collapsed": false
   },
   "outputs": [],
   "source": [
    "isymata();"
   ]
  },
  {
   "cell_type": "code",
   "execution_count": 20,
   "metadata": {
    "collapsed": false
   },
   "outputs": [
    {
     "data": {
      "application/javascript": [
       "$(\"div.input_prompt\").css({\"color\": \"blue\"})"
      ]
     },
     "metadata": {},
     "output_type": "display_data"
    },
    {
     "data": {
      "text/latex": [
       "$$ \\text{False} $$"
      ],
      "text/plain": [
       "L\"$$ \\text{False} $$\""
      ]
     },
     "execution_count": 20,
     "metadata": {},
     "output_type": "execute_result"
    }
   ],
   "source": [
    "issymata()"
   ]
  },
  {
   "cell_type": "code",
   "execution_count": null,
   "metadata": {
    "collapsed": true
   },
   "outputs": [],
   "source": []
  }
 ],
 "metadata": {
  "kernelspec": {
   "display_name": "Julia 0.5.0",
   "language": "julia",
   "name": "julia-0.5"
  },
  "language_info": {
   "file_extension": ".jl",
   "mimetype": "application/julia",
   "name": "julia",
   "version": "0.5.0"
  }
 },
 "nbformat": 4,
 "nbformat_minor": 0
}
