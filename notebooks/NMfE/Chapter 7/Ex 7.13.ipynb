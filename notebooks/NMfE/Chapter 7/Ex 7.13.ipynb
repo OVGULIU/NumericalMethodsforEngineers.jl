{
 "cells": [
  {
   "cell_type": "code",
   "execution_count": 1,
   "metadata": {
    "collapsed": false
   },
   "outputs": [],
   "source": [
    "using Symata, NMfE, Plots"
   ]
  },
  {
   "cell_type": "markdown",
   "metadata": {},
   "source": [
    "### Enter Symata mode"
   ]
  },
  {
   "cell_type": "code",
   "execution_count": 2,
   "metadata": {
    "collapsed": false
   },
   "outputs": [
    {
     "data": {
      "text/latex": [
       "$$ isymata \\!  \\left(  \\right)  $$"
      ],
      "text/plain": [
       "L\"$$ isymata \\!  \\left(  \\right)  $$\""
      ]
     },
     "execution_count": 2,
     "metadata": {},
     "output_type": "execute_result"
    }
   ],
   "source": [
    "isymata()"
   ]
  },
  {
   "cell_type": "code",
   "execution_count": 3,
   "metadata": {
    "collapsed": false
   },
   "outputs": [
    {
     "data": {
      "text/latex": [
       "$$ \\text{\"4.0 + 2.0C1 - 3x - 4x*(-1.0 + 2.0x + C1*(-1 + x))\"} $$"
      ],
      "text/plain": [
       "L\"$$ \\text{\\\"4.0 + 2.0C1 - 3x - 4x*(-1.0 + 2.0x + C1*(-1 + x))\\\"} $$\""
      ]
     },
     "execution_count": 3,
     "metadata": {},
     "output_type": "execute_result"
    }
   ],
   "source": [
    "ClearAll(xi, yi, Y, R, sol, ytilde)\n",
    "xi = [0, 1//2, 1]\n",
    "yi = [0, a, 1]\n",
    "Y(x_) := LagrangePolynomial(xi, yi)\n",
    "#\n",
    "# Can be formulated as ytile(x) = F(x) + C1(a) * Ψ(x)\n",
    "#\n",
    "# F(x_) := 2*x^2 - x\n",
    "# C(a_) := -4a\n",
    "# Ψ(x_) := x^2 - x\n",
    "#\n",
    "#Y(x_) := F(x) + C(a)*Ψ(x)\n",
    "#\n",
    "R(x_) = Simplify(D(Y(x), x, 2) - 3*x - 4*Y(x))\n",
    "R(x_) = Simplify(R(x) ./ (a => -C1/4))\n",
    "SetJ(r, ToString(Simplify(R(x))))"
   ]
  },
  {
   "cell_type": "code",
   "execution_count": 4,
   "metadata": {
    "collapsed": false
   },
   "outputs": [
    {
     "data": {
      "text/html": [
       "true"
      ],
      "text/plain": [
       "true"
      ]
     },
     "execution_count": 4,
     "metadata": {},
     "output_type": "execute_result"
    }
   ],
   "source": [
    "Julia()"
   ]
  },
  {
   "cell_type": "markdown",
   "metadata": {},
   "source": [
    "### Example 7.13: y'' = 3x + 4y, y(0)=0, y(1)=1\n",
    "### Residual for Weighted Residual Method using 1 point Lagragian Polynomial"
   ]
  },
  {
   "cell_type": "code",
   "execution_count": 5,
   "metadata": {
    "collapsed": false
   },
   "outputs": [],
   "source": [
    "isymata()"
   ]
  },
  {
   "cell_type": "code",
   "execution_count": 6,
   "metadata": {
    "collapsed": false
   },
   "outputs": [
    {
     "name": "stdout",
     "output_type": "stream",
     "text": [
      "\n",
      "Y(x) = x*(-1.0 + 2.0x - 4.0a*(-1 + x))\n",
      "\n",
      "R(x) = 4.0 + 2.0C1 - 3x - 4x*(-1.0 + 2.0x + C1*(-1 + x))\n",
      "\n"
     ]
    }
   ],
   "source": [
    "Println(\"\\nY(x) = \", Y(x), \"\\n\")\n",
    "Println(\"R(x) = \", R(x), \"\\n\")"
   ]
  },
  {
   "cell_type": "code",
   "execution_count": 7,
   "metadata": {
    "collapsed": false
   },
   "outputs": [
    {
     "data": {
      "text/html": [
       "true"
      ],
      "text/plain": [
       "true"
      ]
     },
     "execution_count": 7,
     "metadata": {},
     "output_type": "execute_result"
    }
   ],
   "source": [
    "Julia()"
   ]
  },
  {
   "cell_type": "markdown",
   "metadata": {},
   "source": [
    "( Example 7.14 gives: R = -4x^2*(2 + C1) + x*(1 + 4C1) + 2*(2 + C1) )"
   ]
  },
  {
   "cell_type": "code",
   "execution_count": 8,
   "metadata": {
    "collapsed": false
   },
   "outputs": [],
   "source": [
    "@assert r == \"4.0 + 2.0C1 - 3x - 4x*(-1.0 + 2.0x + C1*(-1 + x))\""
   ]
  },
  {
   "cell_type": "code",
   "execution_count": 9,
   "metadata": {
    "collapsed": false
   },
   "outputs": [
    {
     "data": {
      "text/plain": [
       "y_exact (generic function with 1 method)"
      ]
     },
     "execution_count": 9,
     "metadata": {},
     "output_type": "execute_result"
    }
   ],
   "source": [
    "y_exact(x) = 7/4*(exp(2x)-exp(-2x))/(exp(2)-exp(-2))-3/4*x"
   ]
  },
  {
   "cell_type": "code",
   "execution_count": 10,
   "metadata": {
    "collapsed": false
   },
   "outputs": [],
   "source": [
    "ytildes_1pt = [\n",
    "    (x) -> ytilde_1pt_collocation(x) - y_exact(x),\n",
    "    (x) -> ytilde_1pt_subdomain(x) - y_exact(x),\n",
    "    (x) -> ytilde_1pt_leastsquares(x) - y_exact(x),\n",
    "    (x) -> ytilde_1pt_galerkin(x) - y_exact(x)\n",
    "];\n",
    "\n",
    "ytildes_2pt = [\n",
    "    (x) -> ytilde_2pt_collocation(x) - y_exact(x),\n",
    "    (x) -> ytilde_2pt_subdomain(x) - y_exact(x),\n",
    "    (x) -> ytilde_2pt_leastsquares(x) - y_exact(x),\n",
    "    (x) -> ytilde_2pt_galerkin(x) - y_exact(x)\n",
    "];"
   ]
  },
  {
   "cell_type": "markdown",
   "metadata": {},
   "source": []
  },
  {
   "cell_type": "code",
   "execution_count": 11,
   "metadata": {
    "collapsed": true
   },
   "outputs": [],
   "source": [
    "labels_1pt = [\"ytilde_1pt_collocation\", \"ytilde_1pt_subdomain\",\n",
    "\"ytilde_1pt_leastsquares\", \"ytilde_1pt_galerkin\"];"
   ]
  },
  {
   "cell_type": "code",
   "execution_count": 12,
   "metadata": {
    "collapsed": false
   },
   "outputs": [
    {
     "ename": "LoadError",
     "evalue": "LoadError: UndefVarError: ytilde_1pt_collocation not defined\nwhile loading In[12], in expression starting on line 2",
     "output_type": "error",
     "traceback": [
      "LoadError: UndefVarError: ytilde_1pt_collocation not defined\nwhile loading In[12], in expression starting on line 2",
      "",
      " in _collect(::LinSpace{Float64}, ::Base.Generator{LinSpace{Float64},##5#9}, ::Base.EltypeUnknown, ::Base.HasShape) at ./array.jl:320",
      " in compute_xyz(::LinSpace{Float64}, ::Function, ::Void) at /Users/rob/.julia/v0.5/Plots/src/series.jl:93",
      " in macro expansion at /Users/rob/.julia/v0.5/Plots/src/series.jl:150 [inlined]",
      " in apply_recipe(::Dict{Symbol,Any}, ::Type{Plots.SliceIt}, ::LinSpace{Float64}, ::Function, ::Void) at /Users/rob/.julia/v0.5/RecipesBase/src/RecipesBase.jl:238",
      " in _process_userrecipes(::Plots.Plot{Plots.PyPlotBackend}, ::Dict{Symbol,Any}, ::Tuple{##5#9,Int64,Int64}) at /Users/rob/.julia/v0.5/Plots/src/pipeline.jl:73",
      " in _plot!(::Plots.Plot{Plots.PyPlotBackend}, ::Dict{Symbol,Any}, ::Tuple{##5#9,Int64,Int64}) at /Users/rob/.julia/v0.5/Plots/src/plot.jl:173",
      " in #plot#258(::Array{Any,1}, ::Function, ::Function, ::Vararg{Any,N}) at /Users/rob/.julia/v0.5/Plots/src/plot.jl:52",
      " in (::Plots.#kw##plot)(::Array{Any,1}, ::Plots.#plot, ::Function, ::Int64, ::Vararg{Int64,N}) at ./<missing>:0",
      " in macro expansion; at ./In[12]:5 [inlined]",
      " in anonymous at ./<missing>:?"
     ]
    }
   ],
   "source": [
    "p1 = plot()\n",
    "for (i, f) in enumerate(ytildes_1pt)\n",
    "    lab = labels_1pt[i]\n",
    "    if i == 1\n",
    "      p1 = plot(f, 0, 1, label=lab, ylabel=\"ÿ - y\")\n",
    "    else\n",
    "      plot!(p1, f, 0, 1, label=lab)\n",
    "    end\n",
    "end"
   ]
  },
  {
   "cell_type": "code",
   "execution_count": 13,
   "metadata": {
    "collapsed": true
   },
   "outputs": [],
   "source": [
    "labels_2pt = [\"ytilde_2pt_collocation\", \"ytilde_2pt_subdomain\",\n",
    "\"ytilde_2pt_leastsquares\", \"ytilde_2pt_galerkin\"];"
   ]
  },
  {
   "cell_type": "code",
   "execution_count": 14,
   "metadata": {
    "collapsed": false
   },
   "outputs": [
    {
     "ename": "LoadError",
     "evalue": "LoadError: UndefVarError: ytilde_2pt_collocation not defined\nwhile loading In[14], in expression starting on line 2",
     "output_type": "error",
     "traceback": [
      "LoadError: UndefVarError: ytilde_2pt_collocation not defined\nwhile loading In[14], in expression starting on line 2",
      "",
      " in _collect(::LinSpace{Float64}, ::Base.Generator{LinSpace{Float64},##13#17}, ::Base.EltypeUnknown, ::Base.HasShape) at ./array.jl:320",
      " in compute_xyz(::LinSpace{Float64}, ::Function, ::Void) at /Users/rob/.julia/v0.5/Plots/src/series.jl:93",
      " in macro expansion at /Users/rob/.julia/v0.5/Plots/src/series.jl:150 [inlined]",
      " in apply_recipe(::Dict{Symbol,Any}, ::Type{Plots.SliceIt}, ::LinSpace{Float64}, ::Function, ::Void) at /Users/rob/.julia/v0.5/RecipesBase/src/RecipesBase.jl:238",
      " in _process_userrecipes(::Plots.Plot{Plots.PyPlotBackend}, ::Dict{Symbol,Any}, ::Tuple{##13#17,Int64,Int64}) at /Users/rob/.julia/v0.5/Plots/src/pipeline.jl:73",
      " in _plot!(::Plots.Plot{Plots.PyPlotBackend}, ::Dict{Symbol,Any}, ::Tuple{##13#17,Int64,Int64}) at /Users/rob/.julia/v0.5/Plots/src/plot.jl:173",
      " in #plot#258(::Array{Any,1}, ::Function, ::Function, ::Vararg{Any,N}) at /Users/rob/.julia/v0.5/Plots/src/plot.jl:52",
      " in (::Plots.#kw##plot)(::Array{Any,1}, ::Plots.#plot, ::Function, ::Int64, ::Vararg{Int64,N}) at ./<missing>:0",
      " in macro expansion; at ./In[14]:5 [inlined]",
      " in anonymous at ./<missing>:?"
     ]
    }
   ],
   "source": [
    "p2 = plot()\n",
    "for (i, f) in enumerate(ytildes_2pt)\n",
    "    lab = labels_2pt[i]\n",
    "    if i == 1\n",
    "      p2 = plot(f, 0, 1, label=lab, xlabel=\"x\", ylabel=\"ÿ - y\")\n",
    "    else\n",
    "      plot!(p2, f, 0, 1, label=lab)\n",
    "    end\n",
    "end"
   ]
  },
  {
   "cell_type": "code",
   "execution_count": 15,
   "metadata": {
    "collapsed": false
   },
   "outputs": [
    {
     "data": {
      "text/html": [
       "<img src=\"data:image/png;base64,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\" />"
      ]
     },
     "execution_count": 15,
     "metadata": {},
     "output_type": "execute_result"
    },
    {
     "name": "stderr",
     "output_type": "stream",
     "text": [
      "/Applications/anaconda/lib/python2.7/site-packages/matplotlib/font_manager.py:1288: UserWarning: findfont: Font family [u'Helvetica'] not found. Falling back to Bitstream Vera Sans\n",
      "  (prop.get_family(), self.defaultFamily[fontext]))\n"
     ]
    }
   ],
   "source": [
    "plot(p1, p2, layout=(2, 1), link=:both, leg=true)"
   ]
  }
 ],
 "metadata": {
  "kernelspec": {
   "display_name": "Julia 0.5.0",
   "language": "julia",
   "name": "julia-0.5"
  },
  "language_info": {
   "file_extension": ".jl",
   "mimetype": "application/julia",
   "name": "julia",
   "version": "0.5.0"
  }
 },
 "nbformat": 4,
 "nbformat_minor": 0
}
