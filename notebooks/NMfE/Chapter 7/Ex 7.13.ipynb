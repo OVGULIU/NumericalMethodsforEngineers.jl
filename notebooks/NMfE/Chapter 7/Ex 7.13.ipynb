{
 "cells": [
  {
   "cell_type": "code",
   "execution_count": 4,
   "metadata": {
    "collapsed": false
   },
   "outputs": [],
   "source": [
    "using Symata, NMfE, Plots"
   ]
  },
  {
   "cell_type": "markdown",
   "metadata": {},
   "source": [
    "### Enter Symata mode"
   ]
  },
  {
   "cell_type": "code",
   "execution_count": 5,
   "metadata": {
    "collapsed": false
   },
   "outputs": [],
   "source": [
    "isymata()"
   ]
  },
  {
   "cell_type": "code",
   "execution_count": 6,
   "metadata": {
    "collapsed": false
   },
   "outputs": [
    {
     "data": {
      "text/latex": [
       "$$ \\text{\"4.0 + 2.0C1 - 3x - 4x*(-1.0 + 2.0x + C1*(-1 + x))\"} $$"
      ],
      "text/plain": [
       "L\"$$ \\text{\\\"4.0 + 2.0C1 - 3x - 4x*(-1.0 + 2.0x + C1*(-1 + x))\\\"} $$\""
      ]
     },
     "execution_count": 6,
     "metadata": {},
     "output_type": "execute_result"
    }
   ],
   "source": [
    "ClearAll(xi, yi, Y, R, sol, ytilde)\n",
    "xi = [0, 1//2, 1]\n",
    "yi = [0, a, 1]\n",
    "Y(x_) := LagrangePolynomial(xi, yi)\n",
    "#\n",
    "# Can be formulated as ytile(x) = F(x) + C1(a) * Ψ(x)\n",
    "#\n",
    "# F(x_) := 2*x^2 - x\n",
    "# C(a_) := -4a\n",
    "# Ψ(x_) := x^2 - x\n",
    "#\n",
    "#Y(x_) := F(x) + C(a)*Ψ(x)\n",
    "#\n",
    "R(x_) = Simplify(D(Y(x), x, 2) - 3*x - 4*Y(x))\n",
    "R(x_) = Simplify(R(x) ./ (a => -C1/4))\n",
    "SetJ(r, ToString(Simplify(R(x))))"
   ]
  },
  {
   "cell_type": "code",
   "execution_count": 7,
   "metadata": {
    "collapsed": false
   },
   "outputs": [
    {
     "data": {
      "text/html": [
       "true"
      ],
      "text/plain": [
       "true"
      ]
     },
     "execution_count": 7,
     "metadata": {},
     "output_type": "execute_result"
    }
   ],
   "source": [
    "Julia()"
   ]
  },
  {
   "cell_type": "markdown",
   "metadata": {},
   "source": [
    "### Example 7.13: y'' = 3x + 4y, y(0)=0, y(1)=1\n",
    "### Residual for Weighted Residual Method using 1 point Lagragian Polynomial"
   ]
  },
  {
   "cell_type": "code",
   "execution_count": 8,
   "metadata": {
    "collapsed": false
   },
   "outputs": [],
   "source": [
    "isymata()"
   ]
  },
  {
   "cell_type": "code",
   "execution_count": 9,
   "metadata": {
    "collapsed": false
   },
   "outputs": [
    {
     "name": "stdout",
     "output_type": "stream",
     "text": [
      "\n",
      "Y(x) = x*(-1.0 + 2.0x - 4.0a*(-1 + x))\n",
      "\n",
      "R(x) = 4.0 + 2.0C1 - 3x - 4x*(-1.0 + 2.0x + C1*(-1 + x))\n",
      "\n"
     ]
    }
   ],
   "source": [
    "Println(\"\\nY(x) = \", Y(x), \"\\n\")\n",
    "Println(\"R(x) = \", R(x), \"\\n\")"
   ]
  },
  {
   "cell_type": "code",
   "execution_count": 10,
   "metadata": {
    "collapsed": false
   },
   "outputs": [
    {
     "data": {
      "text/html": [
       "true"
      ],
      "text/plain": [
       "true"
      ]
     },
     "execution_count": 10,
     "metadata": {},
     "output_type": "execute_result"
    }
   ],
   "source": [
    "Julia()"
   ]
  },
  {
   "cell_type": "markdown",
   "metadata": {},
   "source": [
    "( Example 7.14 gives: R = -4x^2*(2 + C1) + x*(1 + 4C1) + 2*(2 + C1) )"
   ]
  },
  {
   "cell_type": "code",
   "execution_count": 11,
   "metadata": {
    "collapsed": false
   },
   "outputs": [],
   "source": [
    "@assert r == \"4.0 + 2.0C1 - 3x - 4x*(-1.0 + 2.0x + C1*(-1 + x))\""
   ]
  },
  {
   "cell_type": "code",
   "execution_count": 25,
   "metadata": {
    "collapsed": false
   },
   "outputs": [
    {
     "data": {
      "text/plain": [
       "y_exact (generic function with 1 method)"
      ]
     },
     "execution_count": 25,
     "metadata": {},
     "output_type": "execute_result"
    }
   ],
   "source": [
    "y_exact(x) = 7/4*(exp(2x)-exp(-2x))/(exp(2)-exp(-2))-3/4*x"
   ]
  },
  {
   "cell_type": "code",
   "execution_count": 12,
   "metadata": {
    "collapsed": false
   },
   "outputs": [],
   "source": [
    "ytildes_1pt = [\n",
    "    (x) -> ytilde_1pt_collocation(x) - y_exact(x),\n",
    "    (x) -> ytilde_1pt_subdomain(x) - y_exact(x),\n",
    "    (x) -> ytilde_1pt_leastsquares(x) - y_exact(x),\n",
    "    (x) -> ytilde_1pt_galerkin(x) - y_exact(x)\n",
    "];\n",
    "\n",
    "ytildes_2pt = [\n",
    "    (x) -> ytilde_2pt_collocation(x) - y_exact(x),\n",
    "    (x) -> ytilde_2pt_subdomain(x) - y_exact(x),\n",
    "    (x) -> ytilde_2pt_leastsquares(x) - y_exact(x),\n",
    "    (x) -> ytilde_2pt_galerkin(x) - y_exact(x)\n",
    "];"
   ]
  },
  {
   "cell_type": "markdown",
   "metadata": {},
   "source": []
  },
  {
   "cell_type": "code",
   "execution_count": 13,
   "metadata": {
    "collapsed": true
   },
   "outputs": [],
   "source": [
    "labels_1pt = [\"ytilde_1pt_collocation\", \"ytilde_1pt_subdomain\",\n",
    "\"ytilde_1pt_leastsquares\", \"ytilde_1pt_galerkin\"];"
   ]
  },
  {
   "cell_type": "code",
   "execution_count": 14,
   "metadata": {
    "collapsed": false
   },
   "outputs": [
    {
     "ename": "LoadError",
     "evalue": "LoadError: UndefVarError: ytilde_1pt_collocation not defined\nwhile loading In[14], in expression starting on line 2",
     "output_type": "error",
     "traceback": [
      "LoadError: UndefVarError: ytilde_1pt_collocation not defined\nwhile loading In[14], in expression starting on line 2",
      "",
      " in _collect(::LinSpace{Float64}, ::Base.Generator{LinSpace{Float64},##5#9}, ::Base.EltypeUnknown, ::Base.HasShape) at ./array.jl:320",
      " in compute_xyz(::LinSpace{Float64}, ::Function, ::Void) at /Users/rob/.julia/v0.5/Plots/src/series.jl:93",
      " in macro expansion at /Users/rob/.julia/v0.5/Plots/src/series.jl:150 [inlined]",
      " in apply_recipe(::Dict{Symbol,Any}, ::Type{Plots.SliceIt}, ::LinSpace{Float64}, ::Function, ::Void) at /Users/rob/.julia/v0.5/RecipesBase/src/RecipesBase.jl:238",
      " in _process_userrecipes(::Plots.Plot{Plots.PyPlotBackend}, ::Dict{Symbol,Any}, ::Tuple{##5#9,Int64,Int64}) at /Users/rob/.julia/v0.5/Plots/src/pipeline.jl:73",
      " in _plot!(::Plots.Plot{Plots.PyPlotBackend}, ::Dict{Symbol,Any}, ::Tuple{##5#9,Int64,Int64}) at /Users/rob/.julia/v0.5/Plots/src/plot.jl:173",
      " in #plot#258(::Array{Any,1}, ::Function, ::Function, ::Vararg{Any,N}) at /Users/rob/.julia/v0.5/Plots/src/plot.jl:52",
      " in (::Plots.#kw##plot)(::Array{Any,1}, ::Plots.#plot, ::Function, ::Int64, ::Vararg{Int64,N}) at ./<missing>:0",
      " in macro expansion; at ./In[14]:5 [inlined]",
      " in anonymous at ./<missing>:?"
     ]
    }
   ],
   "source": [
    "p1 = plot()\n",
    "for (i, f) in enumerate(ytildes_1pt)\n",
    "    lab = labels_1pt[i]\n",
    "    if i == 1\n",
    "      p1 = plot(f, 0, 1, label=lab, ylabel=\"ÿ - y\")\n",
    "    else\n",
    "      plot!(p1, f, 0, 1, label=lab)\n",
    "    end\n",
    "end"
   ]
  },
  {
   "cell_type": "code",
   "execution_count": null,
   "metadata": {
    "collapsed": true
   },
   "outputs": [],
   "source": [
    "labels_2pt = [\"ytilde_2pt_collocation\", \"ytilde_2pt_subdomain\",\n",
    "\"ytilde_2pt_leastsquares\", \"ytilde_2pt_galerkin\"];"
   ]
  },
  {
   "cell_type": "code",
   "execution_count": null,
   "metadata": {
    "collapsed": true
   },
   "outputs": [],
   "source": [
    "p2 = plot()\n",
    "for (i, f) in enumerate(ytildes_2pt)\n",
    "    lab = labels_2pt[i]\n",
    "    if i == 1\n",
    "      p2 = plot(f, 0, 1, label=lab, xlabel=\"x\", ylabel=\"ÿ - y\")\n",
    "    else\n",
    "      plot!(p2, f, 0, 1, label=lab)\n",
    "    end\n",
    "end"
   ]
  },
  {
   "cell_type": "code",
   "execution_count": null,
   "metadata": {
    "collapsed": true
   },
   "outputs": [],
   "source": [
    "plot(p1, p2, layout=(2, 1), link=:both, leg=true)"
   ]
  }
 ],
 "metadata": {
  "kernelspec": {
   "display_name": "Julia 0.5.0",
   "language": "julia",
   "name": "julia-0.5"
  },
  "language_info": {
   "file_extension": ".jl",
   "mimetype": "application/julia",
   "name": "julia",
   "version": "0.5.0"
  }
 },
 "nbformat": 4,
 "nbformat_minor": 0
}
