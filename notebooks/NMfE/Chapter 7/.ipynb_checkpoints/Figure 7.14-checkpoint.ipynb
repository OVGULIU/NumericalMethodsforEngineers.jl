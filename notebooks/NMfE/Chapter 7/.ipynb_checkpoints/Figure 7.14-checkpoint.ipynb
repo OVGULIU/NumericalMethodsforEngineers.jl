{
 "cells": [
  {
   "cell_type": "code",
   "execution_count": 1,
   "metadata": {
    "collapsed": false
   },
   "outputs": [],
   "source": [
    "using NMfE, Plots"
   ]
  },
  {
   "cell_type": "markdown",
   "metadata": {},
   "source": [
    "### Compute all ytildes"
   ]
  },
  {
   "cell_type": "code",
   "execution_count": 1,
   "metadata": {
    "collapsed": false
   },
   "outputs": [
    {
     "name": "stdout",
     "output_type": "stream",
     "text": [
      "\n",
      "\t  * Ex.7.13.jl *\n",
      "\n",
      "\n",
      "\n",
      "Example 7.13: y'' = 3x + 4y, y(0)=0, y(1)=1\n",
      "Residual for Weighted Residual Method using 1 point Lagragian Polynomial\n",
      "\n",
      "Y(x) = x*(-1.0 + 2.0x - 4.0a*(-1 + x))\n",
      "\n",
      "R(x) = 4.0 + 2.0C1 - 3x - 4x*(-1.0 + 2.0x + C1*(-1 + x))\n",
      "\n",
      "( Example 7.14 gives: R = -4x^2*(2 + C1) + x*(1 + 4C1) + 2*(2 + C1) )\n",
      "\n",
      "\n",
      "\t  * Ex.7.14.jl *\n",
      "\n",
      "\n",
      "\n",
      "Example 7.14: y'' = 3x + 4y, y(0)=0, y(1)=1\n",
      "Residual for Weighted Residual Method using 2 point Lagragian Polynomial\n",
      "\n",
      "Y(x): x + 9.0a*x - 4.5b*x - 4.5x^2 + 18.0b*x^2 - 22.5a*x^2 + 4.5x^3 + 13.5a*x^3 - 13.5b*x^3\n",
      "\n",
      "( Example 7.14 gives: ytilde = 1/2*x^3*(27a-27b+9)-x^2*(45a-36b+9)+x*(18a-9b+2) )\n",
      "\n",
      "R(x) = -9.0 - 45.0a + 36.0b + 20.0x + 45.0a*x - 63.0b*x + 18.0x^2 + 90.0a*x^2 - 72.0b*x^2 - 18.0x^3 + 54.0b*x^3 - 54.0a*x^3\n",
      "\n",
      "\n",
      "\t  * Ex.7.15.jl *\n",
      "\n",
      "\n",
      "\n",
      "Example 7.15: y'' = 3x + 4y, y(0)=0, y(1)=1\n",
      "by 1-point collocation Weighted Residual Method\n",
      "\n",
      "Y(x) = x*(-1.0 + 2.0x - 4.0a*(-1 + x))\n",
      "\n",
      "R(x) = 4.0 - 8.0a - 3x + 4x*(1.0 - 2.0x + 4.0a*(-1 + x))\n",
      "\n",
      "C1 = -0.8333333333333334\n",
      "\n",
      "ytilde_1pt_collocation(x) = x*(-0.16666666666666663 + 1.1666666666666665x)\n",
      "\n",
      "( Example 7.15 gives: ytilde_collocation = 1/6 * x * (7x - 1) )\n",
      "\n",
      "\n",
      "\n",
      "\t  * Ex.7.15b.jl *\n",
      "\n",
      "\n",
      "\n",
      "Example 7.15b: y'' = 3x + 4y, y(0)=0, y(1)=1\n",
      "by 2-point collocation Weighted Residual Method\n",
      "\n",
      "Y(x): x*(0.5(-2 + 3x)*(-1 + 3x) + 4.5a*(-2 + 3x)*(-1 + x) - 4.5b*(-1 + x)*(-1 + 3x))\n",
      "\n",
      "R(x) = -9.0 - 45.0a + 36.0b + 20.0x + 45.0a*x - 63.0b*x + 18.0x^2 + 90.0a*x^2 - 72.0b*x^2 - 18.0x^3 + 54.0b*x^3 - 54.0a*x^3\n",
      "\n",
      "(a, b) = [0.10173697270471464, 0.3598014888337469]\n",
      "\n",
      "ytilde_2pt_collocation(x) = x*(0.2965260545905706 - 0.3126550868486353x + 1.016129032258065x^2)\n",
      "\n",
      "\n",
      "\n",
      "\t  * Ex.7.16.jl *\n",
      "\n",
      "\n",
      "\n",
      "Example 7.16: y'' = 3x + 4y, y(0)=0, y(1)=1\n",
      "by 1-point subdomain Weighted Residual Method\n",
      "\n",
      "Y(x) = x*(-1.0 + 2.0x - 4.0a*(-1 + x))\n",
      "\n",
      "R(x) = 4.0 - 8.0a - 3x + 4x*(1.0 - 2.0x + 4.0a*(-1 + x))\n",
      "\n",
      "C1 = -0.6875\n",
      "\n",
      "ytilde_1pt_subdomain(x) = x*(-0.3125 + 1.3125x)\n",
      "\n",
      "( Example 7.16 gives: ytilde = 1/16*x*(21x - 5) )\n",
      "\n",
      "\n",
      "\t  * Ex.7.16b.jl *\n",
      "\n",
      "\n",
      "\n",
      "Example 7.16: y'' = 3x + 4y, y(0)=0, y(1)=1\n",
      "by 2-point subdomain Weighted Residual Method\n",
      "\n",
      "Y(x): x*(0.5(-2 + 3x)*(-1 + 3x) + 4.5a*(-2 + 3x)*(-1 + x) - 4.5b*(-1 + x)*(-1 + 3x))\n",
      "\n",
      "R(x) = -9.0 - 45.0a + 36.0b + 20.0x + 45.0a*x - 63.0b*x + 18.0x^2 + 90.0a*x^2 - 72.0b*x^2 - 18.0x^3 + 54.0b*x^3 - 54.0a*x^3\n",
      "\n",
      "(a, b) = [0.08155270655270655, 0.3351139601139601]\n",
      "\n",
      "ytilde_2pt_subdomain(x) = x*(0.22596153846153857 - 0.30288461538461586x + 1.0769230769230769x^2)\n",
      "\n",
      "\n",
      "\n",
      "\t  * Ex.7.17.jl *\n",
      "\n",
      "\n",
      "\n",
      "Example 7.17: y'' = 3x + 4y, y(0)=0, y(1)=1\n",
      "by 1-point least squares Weighted Residual Method\n",
      "\n",
      "Y(x) = x*(-1.0 + 2.0x - 4.0a*(-1 + x))\n",
      "Y(x) = x*(-1.0 - C1 + 2.0x + C1*x)\n",
      "R(x) = 4.0 + 2.0C1 + x + 4.0C1*x - 8.0x^2 - 4.0C1*x^2\n",
      "\n",
      "C1 = -0.7037037037037037\n",
      "\n",
      "\n",
      "\n",
      "\t  * Ex.7.17b.jl *\n",
      "\n",
      "\n",
      "\n",
      "Example 7.17b: y'' = 3x + 4y, y(0)=0, y(1)=1\n",
      "by 2-point least squares Weighted Residual Method\n",
      "\n",
      "Y(x) = x*(1 + 9.0a - 4.5b - 4.5x + 18.0b*x - 22.5a*x + 4.5x^2 + 13.5a*x^2 - 13.5b*x^2)\n",
      "\n",
      "R(x) = -9.0 + 18.0x + (9.0 + 27.0a - 27.0b)*x + 9.0a*(-2 + 3x) + 27.0a*(-1 + x) - 9.0b*(-1 + 3x) - 27.0b*(-1 + x) - 3x - 4x*(0.5(-2 + 3x)*(-1 + 3x) + 4.5a*(-2 + 3x)*(-1 + x) - 4.5b*(-1 + x)*(-1 + 3x))\n",
      "\n",
      "(a,b) = (0.08570904547382219,0.3381592672833756)\n",
      "\n",
      "C1 = -3.4080779944289707\n",
      "\n",
      "C2 = 0.7503352935107904\n",
      "\n",
      "\n",
      "\n",
      "\n",
      "\t  * Ex.7.18.jl *\n",
      "\n",
      "\n",
      "\n",
      "Example 7.18: y''=3x + 4y, y(0)=0, y(1)=1\n",
      "using 1-point Galerkin Weighted Residual Method\n",
      "\n",
      "Y(x) = x*(-1.0 + 2.0x - 4.0a*(-1 + x))\n",
      "\n",
      "Y(x) = x*(-1.0 - C1 + 2.0x + C1*x)\n",
      "\n",
      "R(x) = 4.0 + 2.0C1 + x + 4.0C1*x - 8.0x^2 - 4.0C1*x^2\n",
      "\n",
      "C1 = -0.75\n",
      "\n",
      "ytilde_1pt_galerkin(x) = x*(-0.25 + 1.25x)\n",
      "\n",
      "( Example 7.18 gives: ytilde = 1/4*x*(5x - 1) )\n",
      "\n",
      "\n",
      "\n",
      "\t  * Ex.7.18b.jl *\n",
      "\n",
      "\n",
      "\n",
      "Example 7.18b: y''=3x + 4y, y(0)=0, y(1)=1\n",
      "using 2-point Galerkin Weighted Residual Method\n",
      "\n",
      "Y(x) = x*(1 + 9.0a - 4.5b - 4.5x + 18.0b*x - 22.5a*x + 4.5x^2 + 13.5a*x^2 - 13.5b*x^2)\n",
      "\n",
      "R(x) = -9.0 - 45.0a + 36.0b + 20.0x + 45.0a*x - 63.0b*x + 18.0x^2 + 90.0a*x^2 - 72.0b*x^2 - 18.0x^3 + 54.0b*x^3 - 54.0a*x^3\n",
      "\n",
      "(a,b) = (0.09500805152979094,0.3494363929146535)\n",
      "\n",
      "C1 = -3.434782608695645\n",
      "\n",
      "C2 = 0.7173913043478223\n",
      "\n",
      "\n",
      "\n"
     ]
    }
   ],
   "source": [
    "include(joinpath(Pkg.dir(\"NMfE\"), \"test\", \"ch07_wrm.jl\"))"
   ]
  },
  {
   "cell_type": "code",
   "execution_count": 2,
   "metadata": {
    "collapsed": false
   },
   "outputs": [
    {
     "name": "stdout",
     "output_type": "stream",
     "text": [
      "ErrorException(\"Symbol 'Pattern' is proctected. Did you mean `==` ?\")\n"
     ]
    },
    {
     "ename": "LoadError",
     "evalue": "LoadError: Symbol 'Pattern' is proctected. Did you mean `==` ?\nwhile loading In[2], in expression starting on line 1",
     "output_type": "error",
     "traceback": [
      "LoadError: Symbol 'Pattern' is proctected. Did you mean `==` ?\nwhile loading In[2], in expression starting on line 1",
      ""
     ]
    }
   ],
   "source": [
    "y_exact(x) = 7/4*(exp(2x)-exp(-2x))/(exp(2)-exp(-2))-3/4*x"
   ]
  },
  {
   "cell_type": "code",
   "execution_count": 6,
   "metadata": {
    "collapsed": false
   },
   "outputs": [
    {
     "ename": "LoadError",
     "evalue": "LoadError: parseblank: Illegal Pattern expression 'ytilde_1pt_collocation'\nwhile loading In[6], in expression starting on line 1",
     "output_type": "error",
     "traceback": [
      "LoadError: parseblank: Illegal Pattern expression 'ytilde_1pt_collocation'\nwhile loading In[6], in expression starting on line 1",
      ""
     ]
    }
   ],
   "source": [
    "ytildes_1pt = [\n",
    "    (x) -> ytilde_1pt_collocation(x) - y_exact(x),\n",
    "    (x) -> ytilde_1pt_subdomain(x) - y_exact(x),\n",
    "    (x) -> ytilde_1pt_leastsquares(x) - y_exact(x),\n",
    "    (x) -> ytilde_1pt_galerkin(x) - y_exact(x)\n",
    "]\n",
    "\n",
    "ytildes_2pt = [\n",
    "    (x) -> ytilde_2pt_collocation(x) - y_exact(x),\n",
    "    (x) -> ytilde_2pt_subdomain(x) - y_exact(x),\n",
    "    (x) -> ytilde_2pt_leastsquares(x) - y_exact(x),\n",
    "    (x) -> ytilde_2pt_galerkin(x) - y_exact(x)\n",
    "]"
   ]
  },
  {
   "cell_type": "code",
   "execution_count": null,
   "metadata": {
    "collapsed": true
   },
   "outputs": [],
   "source": [
    "labels_1pt = [\"ytilde_1pt_collocation\", \"ytilde_1pt_subdomain\",\n",
    "\"ytilde_1pt_leastsquares\", \"ytilde_1pt_galerkin\"];"
   ]
  },
  {
   "cell_type": "code",
   "execution_count": null,
   "metadata": {
    "collapsed": true
   },
   "outputs": [],
   "source": [
    "p1 = plot()\n",
    "for (i, f) in enumerate(ytildes_1pt)\n",
    "    lab = labels_1pt[i]\n",
    "    if i == 1\n",
    "      p1 = plot(f, 0, 1, label=lab, ylabel=\"ÿ - y\")\n",
    "    else\n",
    "      plot!(p1, f, 0, 1, label=lab)\n",
    "    end\n",
    "end"
   ]
  },
  {
   "cell_type": "code",
   "execution_count": null,
   "metadata": {
    "collapsed": true
   },
   "outputs": [],
   "source": [
    "labels_2pt = [\"ytilde_2pt_collocation\", \"ytilde_2pt_subdomain\",\n",
    "\"ytilde_2pt_leastsquares\", \"ytilde_2pt_galerkin\"];"
   ]
  },
  {
   "cell_type": "code",
   "execution_count": null,
   "metadata": {
    "collapsed": true
   },
   "outputs": [],
   "source": [
    "p2 = plot()\n",
    "for (i, f) in enumerate(ytildes_2pt)\n",
    "    lab = labels_2pt[i]\n",
    "    if i == 1\n",
    "      p2 = plot(f, 0, 1, label=lab, xlabel=\"x\", ylabel=\"ÿ - y\")\n",
    "    else\n",
    "      plot!(p2, f, 0, 1, label=lab)\n",
    "    end\n",
    "end"
   ]
  },
  {
   "cell_type": "code",
   "execution_count": null,
   "metadata": {
    "collapsed": true
   },
   "outputs": [],
   "source": [
    "plot(p1, p2, layout=(2, 1), link=:both, leg=true)"
   ]
  }
 ],
 "metadata": {
  "kernelspec": {
   "display_name": "Julia 0.5.0",
   "language": "julia",
   "name": "julia-0.5"
  },
  "language_info": {
   "file_extension": ".jl",
   "mimetype": "application/julia",
   "name": "julia",
   "version": "0.5.0"
  }
 },
 "nbformat": 4,
 "nbformat_minor": 0
}
